{
 "cells": [
  {
   "cell_type": "code",
   "execution_count": 1,
   "id": "713d610a",
   "metadata": {},
   "outputs": [],
   "source": [
    "#Ethan Vaz Falcao \n",
    "import os \n",
    "import pandas as pd  \n",
    "import numpy as np  \n",
    "import matplotlib.pyplot as plt \n",
    "import statsmodels.api as sm\n",
    "import seaborn as sns\n",
    "import numpy as np\n",
    "%matplotlib inline\n",
    "import seaborn as seabornInstance \n",
    "from sklearn.model_selection import train_test_split \n",
    "from sklearn.linear_model import LinearRegression\n",
    "from sklearn.linear_model import LogisticRegression\n",
    "from sklearn import datasets, linear_model\n",
    "from scipy.stats import poisson"
   ]
  },
  {
   "cell_type": "code",
   "execution_count": 2,
   "id": "726c0201",
   "metadata": {},
   "outputs": [],
   "source": [
    "df_fifa_rank = pd.read_csv(\"/Users/Ethan Vaz Falcao/Downloads/Data/fifa_ranking-2022-10-06.csv\", sep=\",\")\n",
    "df_fifa_results = pd.read_csv(\"/Users/Ethan Vaz Falcao/Downloads/Data/results.csv\", sep=\",\")\n",
    "#Data sourced from kaggle.com\n",
    "#https://www.kaggle.com/datasets/martj42/international-football-results-from-1872-to-2017?resource=download&select=shootouts.csv"
   ]
  },
  {
   "cell_type": "code",
   "execution_count": 3,
   "id": "9f7769cd",
   "metadata": {},
   "outputs": [],
   "source": [
    "#df_fifa_rank.head()"
   ]
  },
  {
   "cell_type": "code",
   "execution_count": 4,
   "id": "78b27d96",
   "metadata": {},
   "outputs": [],
   "source": [
    "#df_fifa_results.head()"
   ]
  },
  {
   "cell_type": "code",
   "execution_count": 5,
   "id": "a9a83cc4",
   "metadata": {},
   "outputs": [],
   "source": [
    "#Convert the values in the \"date\" and \"rank_data\" of the df_fifa_results and df_fifa_rank, to represent date times. \n",
    "df_fifa_results[\"date\"] = pd.to_datetime(df_fifa_results[\"date\"])\n",
    "df_fifa_rank[\"rank_date\"] = pd.to_datetime(df_fifa_rank[\"rank_date\"])\n",
    "df_fifa_rank = df_fifa_rank.set_index(['rank_date']).groupby(['country_full'], group_keys=False).resample('D').first().fillna(method='ffill').reset_index()\n",
    "                                    \n"
   ]
  },
  {
   "cell_type": "code",
   "execution_count": 6,
   "id": "b49b3bfb",
   "metadata": {},
   "outputs": [],
   "source": [
    "# Merging the df_fifa_rank and df_fifa_results together \n",
    "df = df_fifa_results.merge(df_fifa_rank[[\"country_full\", \"total_points\", \"previous_points\", \"rank\", \"rank_change\", \"rank_date\"]], left_on=[\"date\", \"home_team\"], right_on=[\"rank_date\", \"country_full\"])\n",
    "df = df.merge(df_fifa_rank[[\"country_full\", \"total_points\", \"previous_points\", \"rank\", \"rank_change\", \"rank_date\"]], left_on=[\"date\", \"away_team\"], right_on=[\"rank_date\", \"country_full\"], suffixes=(\"_home\", \"_away\"))"
   ]
  },
  {
   "cell_type": "code",
   "execution_count": 7,
   "id": "34643a81",
   "metadata": {},
   "outputs": [
    {
     "name": "stdout",
     "output_type": "stream",
     "text": [
      "<class 'pandas.core.frame.DataFrame'>\n",
      "Int64Index: 21483 entries, 0 to 21482\n",
      "Data columns (total 21 columns):\n",
      " #   Column                Non-Null Count  Dtype         \n",
      "---  ------                --------------  -----         \n",
      " 0   date                  21483 non-null  datetime64[ns]\n",
      " 1   home_team             21483 non-null  object        \n",
      " 2   away_team             21483 non-null  object        \n",
      " 3   home_score            21483 non-null  int64         \n",
      " 4   away_score            21483 non-null  int64         \n",
      " 5   tournament            21483 non-null  object        \n",
      " 6   city                  21483 non-null  object        \n",
      " 7   country               21483 non-null  object        \n",
      " 8   neutral               21483 non-null  bool          \n",
      " 9   country_full_home     21483 non-null  object        \n",
      " 10  total_points_home     21483 non-null  float64       \n",
      " 11  previous_points_home  21483 non-null  float64       \n",
      " 12  rank_home             21483 non-null  float64       \n",
      " 13  rank_change_home      21483 non-null  float64       \n",
      " 14  rank_date_home        21483 non-null  datetime64[ns]\n",
      " 15  country_full_away     21483 non-null  object        \n",
      " 16  total_points_away     21483 non-null  float64       \n",
      " 17  previous_points_away  21483 non-null  float64       \n",
      " 18  rank_away             21483 non-null  float64       \n",
      " 19  rank_change_away      21483 non-null  float64       \n",
      " 20  rank_date_away        21483 non-null  datetime64[ns]\n",
      "dtypes: bool(1), datetime64[ns](3), float64(8), int64(2), object(7)\n",
      "memory usage: 3.5+ MB\n"
     ]
    }
   ],
   "source": [
    "df.info()"
   ]
  },
  {
   "cell_type": "code",
   "execution_count": 8,
   "id": "9fde9a4f",
   "metadata": {},
   "outputs": [],
   "source": [
    "# Dropping the repeated columns from merge \n",
    "df= df.drop([\"rank_date_home\",\"rank_date_away\", \"country_full_away\",\"country_full_home\",\n",
    "             \"rank_change_away\",\"rank_change_home\",\"country_full_away\",\"country_full_home\",\"previous_points_away\",\"previous_points_home\",\"country\",\"neutral\"], axis=1)"
   ]
  },
  {
   "cell_type": "code",
   "execution_count": 9,
   "id": "d38995e9",
   "metadata": {},
   "outputs": [],
   "source": [
    "#renaming column headers and fixing any contry names\n",
    "df = df.rename(columns = {'home_score': \"home_team_score\"})\n",
    "df = df.rename(columns = {'away_score': \"away_team_score\"})\n",
    "df = df.rename(columns = {'rank_home': \"home_team_fifa_rank\"})\n",
    "df = df.rename(columns = {'rank_away': \"away_team_fifa_rank\"})\n",
    "df = df.rename(columns = {'total_points_home': \"home_team_total_fifa_points\"})\n",
    "df = df.rename(columns = {'total_points_away': \"away_team_total_fifa_points\"})\n",
    "#df = df.rename(columns = {'neutral': \"friendly\"})\n",
    "df = df.rename(columns = {'city': \"location\"})\n",
    "df[\"home_team\"] = df[\"home_team\"].str.replace(\"USA\", \"United States\").str.replace(\"IR Iran\", \"Iran\").str.replace(\"Israel\", \"Palestine\")"
   ]
  },
  {
   "cell_type": "code",
   "execution_count": 10,
   "id": "52966534",
   "metadata": {},
   "outputs": [],
   "source": [
    "df = df[(df[\"date\"] >= \"2018-8-1\")].reset_index(drop=True)"
   ]
  },
  {
   "cell_type": "code",
   "execution_count": 11,
   "id": "cc242e77",
   "metadata": {},
   "outputs": [
    {
     "data": {
      "text/html": [
       "<div>\n",
       "<style scoped>\n",
       "    .dataframe tbody tr th:only-of-type {\n",
       "        vertical-align: middle;\n",
       "    }\n",
       "\n",
       "    .dataframe tbody tr th {\n",
       "        vertical-align: top;\n",
       "    }\n",
       "\n",
       "    .dataframe thead th {\n",
       "        text-align: right;\n",
       "    }\n",
       "</style>\n",
       "<table border=\"1\" class=\"dataframe\">\n",
       "  <thead>\n",
       "    <tr style=\"text-align: right;\">\n",
       "      <th></th>\n",
       "      <th>date</th>\n",
       "      <th>home_team</th>\n",
       "      <th>away_team</th>\n",
       "      <th>home_team_score</th>\n",
       "      <th>away_team_score</th>\n",
       "      <th>tournament</th>\n",
       "      <th>location</th>\n",
       "      <th>home_team_total_fifa_points</th>\n",
       "      <th>home_team_fifa_rank</th>\n",
       "      <th>away_team_total_fifa_points</th>\n",
       "      <th>away_team_fifa_rank</th>\n",
       "    </tr>\n",
       "  </thead>\n",
       "  <tbody>\n",
       "    <tr>\n",
       "      <th>0</th>\n",
       "      <td>2018-08-04</td>\n",
       "      <td>Belize</td>\n",
       "      <td>Barbados</td>\n",
       "      <td>1</td>\n",
       "      <td>0</td>\n",
       "      <td>Friendly</td>\n",
       "      <td>San Pedro</td>\n",
       "      <td>1052.00</td>\n",
       "      <td>163.0</td>\n",
       "      <td>1059.00</td>\n",
       "      <td>162.0</td>\n",
       "    </tr>\n",
       "    <tr>\n",
       "      <th>1</th>\n",
       "      <td>2018-08-04</td>\n",
       "      <td>Palestine</td>\n",
       "      <td>Iraq</td>\n",
       "      <td>0</td>\n",
       "      <td>3</td>\n",
       "      <td>Friendly</td>\n",
       "      <td>Al-Ram</td>\n",
       "      <td>1449.00</td>\n",
       "      <td>101.0</td>\n",
       "      <td>1534.00</td>\n",
       "      <td>84.0</td>\n",
       "    </tr>\n",
       "    <tr>\n",
       "      <th>2</th>\n",
       "      <td>2018-08-15</td>\n",
       "      <td>Guatemala</td>\n",
       "      <td>Cuba</td>\n",
       "      <td>3</td>\n",
       "      <td>0</td>\n",
       "      <td>Friendly</td>\n",
       "      <td>Guatemala City</td>\n",
       "      <td>1263.00</td>\n",
       "      <td>133.0</td>\n",
       "      <td>1018.00</td>\n",
       "      <td>168.0</td>\n",
       "    </tr>\n",
       "    <tr>\n",
       "      <th>3</th>\n",
       "      <td>2018-08-18</td>\n",
       "      <td>Andorra</td>\n",
       "      <td>United Arab Emirates</td>\n",
       "      <td>0</td>\n",
       "      <td>0</td>\n",
       "      <td>Friendly</td>\n",
       "      <td>Grödig</td>\n",
       "      <td>1120.00</td>\n",
       "      <td>130.0</td>\n",
       "      <td>1312.00</td>\n",
       "      <td>77.0</td>\n",
       "    </tr>\n",
       "    <tr>\n",
       "      <th>4</th>\n",
       "      <td>2018-08-18</td>\n",
       "      <td>Grenada</td>\n",
       "      <td>Jamaica</td>\n",
       "      <td>1</td>\n",
       "      <td>5</td>\n",
       "      <td>Friendly</td>\n",
       "      <td>St. George's</td>\n",
       "      <td>980.00</td>\n",
       "      <td>168.0</td>\n",
       "      <td>1400.00</td>\n",
       "      <td>54.0</td>\n",
       "    </tr>\n",
       "    <tr>\n",
       "      <th>...</th>\n",
       "      <td>...</td>\n",
       "      <td>...</td>\n",
       "      <td>...</td>\n",
       "      <td>...</td>\n",
       "      <td>...</td>\n",
       "      <td>...</td>\n",
       "      <td>...</td>\n",
       "      <td>...</td>\n",
       "      <td>...</td>\n",
       "      <td>...</td>\n",
       "      <td>...</td>\n",
       "    </tr>\n",
       "    <tr>\n",
       "      <th>3216</th>\n",
       "      <td>2022-09-27</td>\n",
       "      <td>Norway</td>\n",
       "      <td>Serbia</td>\n",
       "      <td>0</td>\n",
       "      <td>2</td>\n",
       "      <td>UEFA Nations League</td>\n",
       "      <td>Oslo</td>\n",
       "      <td>1488.57</td>\n",
       "      <td>36.0</td>\n",
       "      <td>1549.53</td>\n",
       "      <td>25.0</td>\n",
       "    </tr>\n",
       "    <tr>\n",
       "      <th>3217</th>\n",
       "      <td>2022-09-27</td>\n",
       "      <td>Sweden</td>\n",
       "      <td>Slovenia</td>\n",
       "      <td>1</td>\n",
       "      <td>1</td>\n",
       "      <td>UEFA Nations League</td>\n",
       "      <td>Stockholm</td>\n",
       "      <td>1563.44</td>\n",
       "      <td>20.0</td>\n",
       "      <td>1372.48</td>\n",
       "      <td>65.0</td>\n",
       "    </tr>\n",
       "    <tr>\n",
       "      <th>3218</th>\n",
       "      <td>2022-09-27</td>\n",
       "      <td>Kosovo</td>\n",
       "      <td>Cyprus</td>\n",
       "      <td>5</td>\n",
       "      <td>1</td>\n",
       "      <td>UEFA Nations League</td>\n",
       "      <td>Pristina</td>\n",
       "      <td>1183.90</td>\n",
       "      <td>106.0</td>\n",
       "      <td>1180.52</td>\n",
       "      <td>108.0</td>\n",
       "    </tr>\n",
       "    <tr>\n",
       "      <th>3219</th>\n",
       "      <td>2022-09-27</td>\n",
       "      <td>Greece</td>\n",
       "      <td>Northern Ireland</td>\n",
       "      <td>3</td>\n",
       "      <td>1</td>\n",
       "      <td>UEFA Nations League</td>\n",
       "      <td>Athens</td>\n",
       "      <td>1441.45</td>\n",
       "      <td>49.0</td>\n",
       "      <td>1399.10</td>\n",
       "      <td>58.0</td>\n",
       "    </tr>\n",
       "    <tr>\n",
       "      <th>3220</th>\n",
       "      <td>2022-09-30</td>\n",
       "      <td>Fiji</td>\n",
       "      <td>Solomon Islands</td>\n",
       "      <td>1</td>\n",
       "      <td>0</td>\n",
       "      <td>MSG Prime Minister's Cup</td>\n",
       "      <td>Luganville</td>\n",
       "      <td>993.37</td>\n",
       "      <td>163.0</td>\n",
       "      <td>1092.56</td>\n",
       "      <td>137.0</td>\n",
       "    </tr>\n",
       "  </tbody>\n",
       "</table>\n",
       "<p>3221 rows × 11 columns</p>\n",
       "</div>"
      ],
      "text/plain": [
       "           date  home_team             away_team  home_team_score  \\\n",
       "0    2018-08-04     Belize              Barbados                1   \n",
       "1    2018-08-04  Palestine                  Iraq                0   \n",
       "2    2018-08-15  Guatemala                  Cuba                3   \n",
       "3    2018-08-18    Andorra  United Arab Emirates                0   \n",
       "4    2018-08-18    Grenada               Jamaica                1   \n",
       "...         ...        ...                   ...              ...   \n",
       "3216 2022-09-27     Norway                Serbia                0   \n",
       "3217 2022-09-27     Sweden              Slovenia                1   \n",
       "3218 2022-09-27     Kosovo                Cyprus                5   \n",
       "3219 2022-09-27     Greece      Northern Ireland                3   \n",
       "3220 2022-09-30       Fiji       Solomon Islands                1   \n",
       "\n",
       "      away_team_score                tournament        location  \\\n",
       "0                   0                  Friendly       San Pedro   \n",
       "1                   3                  Friendly          Al-Ram   \n",
       "2                   0                  Friendly  Guatemala City   \n",
       "3                   0                  Friendly          Grödig   \n",
       "4                   5                  Friendly    St. George's   \n",
       "...               ...                       ...             ...   \n",
       "3216                2       UEFA Nations League            Oslo   \n",
       "3217                1       UEFA Nations League       Stockholm   \n",
       "3218                1       UEFA Nations League        Pristina   \n",
       "3219                1       UEFA Nations League          Athens   \n",
       "3220                0  MSG Prime Minister's Cup      Luganville   \n",
       "\n",
       "      home_team_total_fifa_points  home_team_fifa_rank  \\\n",
       "0                         1052.00                163.0   \n",
       "1                         1449.00                101.0   \n",
       "2                         1263.00                133.0   \n",
       "3                         1120.00                130.0   \n",
       "4                          980.00                168.0   \n",
       "...                           ...                  ...   \n",
       "3216                      1488.57                 36.0   \n",
       "3217                      1563.44                 20.0   \n",
       "3218                      1183.90                106.0   \n",
       "3219                      1441.45                 49.0   \n",
       "3220                       993.37                163.0   \n",
       "\n",
       "      away_team_total_fifa_points  away_team_fifa_rank  \n",
       "0                         1059.00                162.0  \n",
       "1                         1534.00                 84.0  \n",
       "2                         1018.00                168.0  \n",
       "3                         1312.00                 77.0  \n",
       "4                         1400.00                 54.0  \n",
       "...                           ...                  ...  \n",
       "3216                      1549.53                 25.0  \n",
       "3217                      1372.48                 65.0  \n",
       "3218                      1180.52                108.0  \n",
       "3219                      1399.10                 58.0  \n",
       "3220                      1092.56                137.0  \n",
       "\n",
       "[3221 rows x 11 columns]"
      ]
     },
     "execution_count": 11,
     "metadata": {},
     "output_type": "execute_result"
    }
   ],
   "source": [
    "df"
   ]
  },
  {
   "cell_type": "code",
   "execution_count": 12,
   "id": "d22f3560",
   "metadata": {},
   "outputs": [],
   "source": [
    "\n",
    "# for column_headers in df.columns: \n",
    "#     print(column_headers)"
   ]
  },
  {
   "cell_type": "code",
   "execution_count": 13,
   "id": "764bed9f",
   "metadata": {},
   "outputs": [],
   "source": [
    "# date: date of the match\n",
    "# home_team: the name of the home team\n",
    "# away_team: the name of the away team\n",
    "# home_team_score: full-time home team score\n",
    "# away_team_score: full-time away team score \n",
    "# tournament: the name of the tournament\n",
    "# location: the name of the city where the match was played\n",
    "# home_team_total_fifa_points: current total points of home team as of the time of the match\n",
    "# home_team_fifa_rank: current country rank of home team as of the time of the match\n",
    "# away_team_total_fifa_points: current total points of away team as of the time of the match\n",
    "# away_team_fifa_rank: country rank of away team as of the time of the match \n"
   ]
  },
  {
   "cell_type": "code",
   "execution_count": 14,
   "id": "71721b5d",
   "metadata": {},
   "outputs": [
    {
     "data": {
      "text/plain": [
       "1.0698540825830487"
      ]
     },
     "execution_count": 14,
     "metadata": {},
     "output_type": "execute_result"
    }
   ],
   "source": [
    "df[\"goal_difference\"] = (\n",
    "    abs(df[\"home_team_score\"] - df[\"away_team_score\"])\n",
    ")\n",
    "df[\"goal_total\"] = (\n",
    "    abs(df[\"home_team_score\"] + df[\"away_team_score\"])\n",
    ")\n",
    "\n",
    "\n",
    "\n",
    "mean_goals = sum(df[\"home_team_score\"])/(len(df))\n",
    "mean_goals\n",
    "\n",
    "mean_goals_dF = sum(df[\"away_team_score\"])/(len(df))\n",
    "mean_goals_dF\n"
   ]
  },
  {
   "cell_type": "code",
   "execution_count": 15,
   "id": "2938fc0a",
   "metadata": {},
   "outputs": [],
   "source": [
    "\n",
    "df_home = df[['home_team', \"home_team_fifa_rank\",\"home_team_score\",\"away_team_score\"]]\n",
    "df_away = df[['away_team', \"away_team_fifa_rank\",\"home_team_score\",\"away_team_score\"]]"
   ]
  },
  {
   "cell_type": "code",
   "execution_count": 16,
   "id": "9a42a97d",
   "metadata": {},
   "outputs": [],
   "source": [
    "df_home = df_home.rename(columns={'home_team': \"Team\", \"home_team_fifa_rank\":\"fifa_rank\",\"home_team_score\":\"Goals\",\"away_team_score\":\"Goals_Conceded\"})\n",
    "df_away = df_away.rename(columns = {'away_team': \"Team\", \"away_team_fifa_rank\":\"fifa_rank\",\"home_team_score\": \"Goals_Conceded\",\"away_team_score\":\"Goals\"})"
   ]
  },
  {
   "cell_type": "markdown",
   "id": "d32e1b20",
   "metadata": {},
   "source": [
    "Calculating Offense Strength is dividing the team’s average number of goals scored by the average number of goals allowed.\n",
    "Calculating Defence Strength is dividing the team’s average number of goals allowed by the average number of goals allowed."
   ]
  },
  {
   "cell_type": "code",
   "execution_count": 17,
   "id": "0759b0e1",
   "metadata": {},
   "outputs": [
    {
     "data": {
      "text/html": [
       "<div>\n",
       "<style scoped>\n",
       "    .dataframe tbody tr th:only-of-type {\n",
       "        vertical-align: middle;\n",
       "    }\n",
       "\n",
       "    .dataframe tbody tr th {\n",
       "        vertical-align: top;\n",
       "    }\n",
       "\n",
       "    .dataframe thead th {\n",
       "        text-align: right;\n",
       "    }\n",
       "</style>\n",
       "<table border=\"1\" class=\"dataframe\">\n",
       "  <thead>\n",
       "    <tr style=\"text-align: right;\">\n",
       "      <th></th>\n",
       "      <th>fifa_rank</th>\n",
       "      <th>Goals</th>\n",
       "      <th>Goals_Conceded</th>\n",
       "      <th>Of_strength</th>\n",
       "      <th>Df_strength</th>\n",
       "    </tr>\n",
       "    <tr>\n",
       "      <th>Team</th>\n",
       "      <th></th>\n",
       "      <th></th>\n",
       "      <th></th>\n",
       "      <th></th>\n",
       "      <th></th>\n",
       "    </tr>\n",
       "  </thead>\n",
       "  <tbody>\n",
       "    <tr>\n",
       "      <th>Afghanistan</th>\n",
       "      <td>149.000000</td>\n",
       "      <td>0.888889</td>\n",
       "      <td>1.722222</td>\n",
       "      <td>0.566504</td>\n",
       "      <td>1.609773</td>\n",
       "    </tr>\n",
       "    <tr>\n",
       "      <th>Albania</th>\n",
       "      <td>64.476190</td>\n",
       "      <td>1.095238</td>\n",
       "      <td>1.190476</td>\n",
       "      <td>0.698014</td>\n",
       "      <td>1.112746</td>\n",
       "    </tr>\n",
       "    <tr>\n",
       "      <th>Algeria</th>\n",
       "      <td>43.106383</td>\n",
       "      <td>2.170213</td>\n",
       "      <td>0.595745</td>\n",
       "      <td>1.383113</td>\n",
       "      <td>0.556847</td>\n",
       "    </tr>\n",
       "    <tr>\n",
       "      <th>American Samoa</th>\n",
       "      <td>190.000000</td>\n",
       "      <td>2.000000</td>\n",
       "      <td>7.000000</td>\n",
       "      <td>1.274634</td>\n",
       "      <td>6.542948</td>\n",
       "    </tr>\n",
       "    <tr>\n",
       "      <th>Andorra</th>\n",
       "      <td>143.511628</td>\n",
       "      <td>0.511628</td>\n",
       "      <td>1.906977</td>\n",
       "      <td>0.326069</td>\n",
       "      <td>1.782464</td>\n",
       "    </tr>\n",
       "    <tr>\n",
       "      <th>...</th>\n",
       "      <td>...</td>\n",
       "      <td>...</td>\n",
       "      <td>...</td>\n",
       "      <td>...</td>\n",
       "      <td>...</td>\n",
       "    </tr>\n",
       "    <tr>\n",
       "      <th>Vietnam</th>\n",
       "      <td>97.628571</td>\n",
       "      <td>1.571429</td>\n",
       "      <td>1.028571</td>\n",
       "      <td>1.001498</td>\n",
       "      <td>0.961413</td>\n",
       "    </tr>\n",
       "    <tr>\n",
       "      <th>Wales</th>\n",
       "      <td>19.500000</td>\n",
       "      <td>1.125000</td>\n",
       "      <td>1.062500</td>\n",
       "      <td>0.716982</td>\n",
       "      <td>0.993126</td>\n",
       "    </tr>\n",
       "    <tr>\n",
       "      <th>Yemen</th>\n",
       "      <td>141.600000</td>\n",
       "      <td>0.300000</td>\n",
       "      <td>2.250000</td>\n",
       "      <td>0.191195</td>\n",
       "      <td>2.103091</td>\n",
       "    </tr>\n",
       "    <tr>\n",
       "      <th>Zambia</th>\n",
       "      <td>83.785714</td>\n",
       "      <td>1.404762</td>\n",
       "      <td>1.357143</td>\n",
       "      <td>0.895279</td>\n",
       "      <td>1.268531</td>\n",
       "    </tr>\n",
       "    <tr>\n",
       "      <th>Zimbabwe</th>\n",
       "      <td>112.970588</td>\n",
       "      <td>0.970588</td>\n",
       "      <td>0.882353</td>\n",
       "      <td>0.618572</td>\n",
       "      <td>0.824741</td>\n",
       "    </tr>\n",
       "  </tbody>\n",
       "</table>\n",
       "<p>198 rows × 5 columns</p>\n",
       "</div>"
      ],
      "text/plain": [
       "                 fifa_rank     Goals  Goals_Conceded  Of_strength  Df_strength\n",
       "Team                                                                          \n",
       "Afghanistan     149.000000  0.888889        1.722222     0.566504     1.609773\n",
       "Albania          64.476190  1.095238        1.190476     0.698014     1.112746\n",
       "Algeria          43.106383  2.170213        0.595745     1.383113     0.556847\n",
       "American Samoa  190.000000  2.000000        7.000000     1.274634     6.542948\n",
       "Andorra         143.511628  0.511628        1.906977     0.326069     1.782464\n",
       "...                    ...       ...             ...          ...          ...\n",
       "Vietnam          97.628571  1.571429        1.028571     1.001498     0.961413\n",
       "Wales            19.500000  1.125000        1.062500     0.716982     0.993126\n",
       "Yemen           141.600000  0.300000        2.250000     0.191195     2.103091\n",
       "Zambia           83.785714  1.404762        1.357143     0.895279     1.268531\n",
       "Zimbabwe        112.970588  0.970588        0.882353     0.618572     0.824741\n",
       "\n",
       "[198 rows x 5 columns]"
      ]
     },
     "execution_count": 17,
     "metadata": {},
     "output_type": "execute_result"
    }
   ],
   "source": [
    "df_team = pd.concat([df_home,df_away],ignore_index= True).groupby(\"Team\").mean()\n",
    "df_team[\"Of_strength\"]= df_team[\"Goals\"]/mean_goals\n",
    "df_team[\"Df_strength\"]= df_team[\"Goals_Conceded\"]/mean_goals_dF\n",
    "\n",
    "df_team"
   ]
  },
  {
   "cell_type": "code",
   "execution_count": 18,
   "id": "cc2b7362",
   "metadata": {},
   "outputs": [
    {
     "data": {
      "text/plain": [
       "0.5665039792463615"
      ]
     },
     "execution_count": 18,
     "metadata": {},
     "output_type": "execute_result"
    }
   ],
   "source": [
    "df_team[\"Of_strength\"][\"Afghanistan\"]"
   ]
  },
  {
   "cell_type": "code",
   "execution_count": 19,
   "id": "99938c71",
   "metadata": {},
   "outputs": [
    {
     "data": {
      "text/plain": [
       "(2.8802950158881506, 0.06844265384288674)"
      ]
     },
     "execution_count": 19,
     "metadata": {},
     "output_type": "execute_result"
    }
   ],
   "source": [
    "#goals expectancy\n",
    "def goals_prob(home,away):\n",
    "        goals_exp_home =df_team[\"Of_strength\"][home]*df_team[\"Df_strength\"][away]\n",
    "        goals_exp_away =df_team[\"Of_strength\"][away]*df_team[\"Df_strength\"][home]\n",
    "        return goals_exp_home,goals_exp_away\n",
    "goals_prob(\"Brazil\",\"Yemen\")\n",
    "# figure out how to add quotes around input\n"
   ]
  },
  {
   "cell_type": "code",
   "execution_count": 20,
   "id": "a0b40937",
   "metadata": {},
   "outputs": [],
   "source": [
    "#goals expectancy\n",
    "def match_score(home,away):\n",
    "    if home in df_team.index and away in df_team.index:\n",
    "        exp_home =df_team[\"Of_strength\"][home]*df_team[\"Df_strength\"][away]\n",
    "        exp_away =df_team[\"Of_strength\"][away]*df_team[\"Df_strength\"][home]\n",
    "       # return goals_exp_home,goals_exp_away\n",
    "        prob_home, prob_away, prob_draw = 0, 0, 0\n",
    "        for x in range(0,11): #number of goals home team\n",
    "            for y in range(0, 11): #number of goals away team\n",
    "                p = poisson.pmf(x, exp_home) * poisson.pmf(y, exp_away)\n",
    "                if x == y:\n",
    "                    prob_draw += p\n",
    "                elif x > y:\n",
    "                    prob_home += p\n",
    "                else:\n",
    "                    prob_away += p\n",
    "        \n",
    "        points_home = 3 * prob_home + prob_draw\n",
    "        points_away = 3 * prob_away + prob_draw\n",
    "        print(points_home, points_away)\n",
    "        if(points_home>points_away):\n",
    "            print(home,\" is likely to win!\")\n",
    "        else:\n",
    "            print(away,\" is likely to win!\")\n",
    "    else:\n",
    "        return (0, 0)"
   ]
  },
  {
   "cell_type": "code",
   "execution_count": 21,
   "id": "bed52c0b",
   "metadata": {},
   "outputs": [
    {
     "name": "stdout",
     "output_type": "stream",
     "text": [
      "1.2683887737560724 1.3051999417972162\n",
      "Argentina  is likely to win!\n"
     ]
    }
   ],
   "source": [
    "match_score(\"Morocco\",\"Argentina\") "
   ]
  },
  {
   "cell_type": "code",
   "execution_count": 22,
   "id": "969334f7",
   "metadata": {},
   "outputs": [
    {
     "name": "stdout",
     "output_type": "stream",
     "text": [
      "0.802634495405648 1.951953152829949\n",
      "France  is likely to win!\n"
     ]
    }
   ],
   "source": [
    "match_score(\"Croatia\",\"France\")"
   ]
  },
  {
   "cell_type": "code",
   "execution_count": 23,
   "id": "ade50616",
   "metadata": {},
   "outputs": [
    {
     "name": "stdout",
     "output_type": "stream",
     "text": [
      "1.294693467373191 1.2946934673731914\n",
      "Argentina  is likely to win!\n"
     ]
    }
   ],
   "source": [
    "match_score(\"Argentina\",\"Argentina\") "
   ]
  },
  {
   "cell_type": "code",
   "execution_count": 24,
   "id": "d225cf97",
   "metadata": {},
   "outputs": [],
   "source": [
    "tourney = [\"Netherlands\",\"Senegal\",\"England\",\"United States\",\"Argentina\",\"Poland\",\"France\",\"Australia\",\"Japan\",\"Spain\", \"Morocco\",\"Croatia\",\"Brazil\",\"Switerzerland\",\"Portugal\",\"Korea Republic\"]\n"
   ]
  },
  {
   "cell_type": "code",
   "execution_count": 25,
   "id": "3def3495",
   "metadata": {},
   "outputs": [
    {
     "name": "stdout",
     "output_type": "stream",
     "text": [
      "2.0259468273681938 0.6978671380205097\n",
      "Morocco  is likely to win!\n"
     ]
    }
   ],
   "source": [
    "match_score(\"Morocco\",\"Croatia\") "
   ]
  },
  {
   "cell_type": "code",
   "execution_count": null,
   "id": "43f1b981",
   "metadata": {},
   "outputs": [],
   "source": []
  }
 ],
 "metadata": {
  "kernelspec": {
   "display_name": "Python 3 (ipykernel)",
   "language": "python",
   "name": "python3"
  },
  "language_info": {
   "codemirror_mode": {
    "name": "ipython",
    "version": 3
   },
   "file_extension": ".py",
   "mimetype": "text/x-python",
   "name": "python",
   "nbconvert_exporter": "python",
   "pygments_lexer": "ipython3",
   "version": "3.9.12"
  }
 },
 "nbformat": 4,
 "nbformat_minor": 5
}
